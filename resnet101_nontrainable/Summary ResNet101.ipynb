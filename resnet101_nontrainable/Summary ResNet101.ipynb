{
 "cells": [
  {
   "cell_type": "code",
   "execution_count": 1,
   "id": "c6ba1e9f",
   "metadata": {},
   "outputs": [],
   "source": [
    "import pandas as pd\n",
    "import numpy as np\n",
    "import matplotlib.pyplot as plt\n",
    "import os"
   ]
  },
  {
   "cell_type": "code",
   "execution_count": 2,
   "id": "c1748860",
   "metadata": {},
   "outputs": [],
   "source": [
    "lst_dic = {}\n",
    "for file in [x for x in os.listdir() if x[-3:] == 'csv']:\n",
    "    name_file = file[:-4]\n",
    "    read_file = pd.read_csv(file)['val_acc']\n",
    "    lst_dic[name_file] = read_file"
   ]
  },
  {
   "cell_type": "code",
   "execution_count": 3,
   "id": "66808bfc",
   "metadata": {},
   "outputs": [
    {
     "data": {
      "text/plain": [
       "res_hls_nonpre      0.827023\n",
       "res_hls_pre         0.828239\n",
       "res_hsv_nonpre      0.547760\n",
       "res_hsv_pre         0.565300\n",
       "res_lab_nonpre      0.843522\n",
       "res_lab_pre         0.866447\n",
       "res_luv_nonpre      0.903439\n",
       "res_luv_pre         0.888503\n",
       "res_rgb             0.883640\n",
       "res_xyz_nonpre      0.626606\n",
       "res_xyz_pre         0.617576\n",
       "res_ycrcb_nonpre    0.888850\n",
       "res_ycrcb_pre       0.860889\n",
       "res_ydbdr_nonpre    0.558180\n",
       "res_ydbdr_pre       0.507815\n",
       "res_yuv_nonpre      0.511636\n",
       "res_yuv_pre         0.489406\n",
       "dtype: float64"
      ]
     },
     "execution_count": 3,
     "metadata": {},
     "output_type": "execute_result"
    }
   ],
   "source": [
    "pd.DataFrame(lst_dic).max()"
   ]
  },
  {
   "cell_type": "code",
   "execution_count": null,
   "id": "24d75628",
   "metadata": {},
   "outputs": [],
   "source": []
  }
 ],
 "metadata": {
  "kernelspec": {
   "display_name": "Python 3 (ipykernel)",
   "language": "python",
   "name": "python3"
  },
  "language_info": {
   "codemirror_mode": {
    "name": "ipython",
    "version": 3
   },
   "file_extension": ".py",
   "mimetype": "text/x-python",
   "name": "python",
   "nbconvert_exporter": "python",
   "pygments_lexer": "ipython3",
   "version": "3.9.12"
  }
 },
 "nbformat": 4,
 "nbformat_minor": 5
}
