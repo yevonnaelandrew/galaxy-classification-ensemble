{
 "cells": [
  {
   "cell_type": "code",
   "execution_count": 1,
   "id": "3276fe30",
   "metadata": {},
   "outputs": [],
   "source": [
    "import pandas as pd\n",
    "import numpy as np\n",
    "import matplotlib.pyplot as plt\n",
    "import os"
   ]
  },
  {
   "cell_type": "code",
   "execution_count": 2,
   "id": "cb4e07a5",
   "metadata": {},
   "outputs": [],
   "source": [
    "lst_dic = {}\n",
    "for file in [x for x in os.listdir() if x[-3:] == 'csv']:\n",
    "    name_file = file[:-4]\n",
    "    read_file = pd.read_csv(file)['val_acc']\n",
    "    lst_dic[name_file] = read_file"
   ]
  },
  {
   "cell_type": "code",
   "execution_count": 3,
   "id": "e87d6f5e",
   "metadata": {},
   "outputs": [
    {
     "data": {
      "text/plain": [
       "res_hls_nonpre      0.650573\n",
       "res_hls_pre         0.796283\n",
       "res_hsv_nonpre      0.733762\n",
       "res_hsv_pre         0.692254\n",
       "res_lab_nonpre      0.824418\n",
       "res_lab_pre         0.836228\n",
       "res_luv_nonpre      0.830149\n",
       "res_luv_pre         0.872352\n",
       "res_rgb             0.865057\n",
       "res_xyz_nonpre      0.911254\n",
       "res_xyz_pre         0.536818\n",
       "res_ycrcb_nonpre    0.797846\n",
       "res_ycrcb_pre       0.851337\n",
       "res_ydbdr_nonpre    0.820424\n",
       "res_ydbdr_pre       0.601077\n",
       "res_yuv_nonpre      0.897360\n",
       "res_yuv_pre         0.573984\n",
       "dtype: float64"
      ]
     },
     "execution_count": 3,
     "metadata": {},
     "output_type": "execute_result"
    }
   ],
   "source": [
    "pd.DataFrame(lst_dic).max()"
   ]
  },
  {
   "cell_type": "code",
   "execution_count": null,
   "id": "3e6efcac",
   "metadata": {},
   "outputs": [],
   "source": []
  }
 ],
 "metadata": {
  "kernelspec": {
   "display_name": "Python 3 (ipykernel)",
   "language": "python",
   "name": "python3"
  },
  "language_info": {
   "codemirror_mode": {
    "name": "ipython",
    "version": 3
   },
   "file_extension": ".py",
   "mimetype": "text/x-python",
   "name": "python",
   "nbconvert_exporter": "python",
   "pygments_lexer": "ipython3",
   "version": "3.9.12"
  }
 },
 "nbformat": 4,
 "nbformat_minor": 5
}
