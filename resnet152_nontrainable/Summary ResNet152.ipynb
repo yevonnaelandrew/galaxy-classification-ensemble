{
 "cells": [
  {
   "cell_type": "code",
   "execution_count": 1,
   "id": "b5f7367c",
   "metadata": {},
   "outputs": [],
   "source": [
    "import pandas as pd\n",
    "import numpy as np\n",
    "import matplotlib.pyplot as plt\n",
    "import os"
   ]
  },
  {
   "cell_type": "code",
   "execution_count": 2,
   "id": "32a76a42",
   "metadata": {},
   "outputs": [],
   "source": [
    "lst_dic = {}\n",
    "for file in [x for x in os.listdir() if x[-3:] == 'csv']:\n",
    "    name_file = file[:-4]\n",
    "    read_file = pd.read_csv(file)['val_acc']\n",
    "    lst_dic[name_file] = read_file"
   ]
  },
  {
   "cell_type": "code",
   "execution_count": 3,
   "id": "b3416efc",
   "metadata": {},
   "outputs": [
    {
     "data": {
      "text/plain": [
       "res_hls_nonpre      0.818687\n",
       "res_hls_pre         0.828239\n",
       "res_hsv_nonpre      0.561653\n",
       "res_hsv_pre         0.584057\n",
       "res_lab_nonpre      0.837791\n",
       "res_lab_pre         0.849774\n",
       "res_luv_nonpre      0.891803\n",
       "res_luv_pre         0.888329\n",
       "res_rgb             0.885029\n",
       "res_xyz_nonpre      0.496527\n",
       "res_xyz_pre         0.606982\n",
       "res_ycrcb_nonpre    0.869573\n",
       "res_ycrcb_pre       0.863668\n",
       "res_ydbdr_nonpre    0.521014\n",
       "res_ydbdr_pre       0.501042\n",
       "res_yuv_nonpre      0.451546\n",
       "res_yuv_pre         0.496527\n",
       "dtype: float64"
      ]
     },
     "execution_count": 3,
     "metadata": {},
     "output_type": "execute_result"
    }
   ],
   "source": [
    "pd.DataFrame(lst_dic).max()"
   ]
  },
  {
   "cell_type": "code",
   "execution_count": null,
   "id": "e851a020",
   "metadata": {},
   "outputs": [],
   "source": []
  }
 ],
 "metadata": {
  "kernelspec": {
   "display_name": "Python 3 (ipykernel)",
   "language": "python",
   "name": "python3"
  },
  "language_info": {
   "codemirror_mode": {
    "name": "ipython",
    "version": 3
   },
   "file_extension": ".py",
   "mimetype": "text/x-python",
   "name": "python",
   "nbconvert_exporter": "python",
   "pygments_lexer": "ipython3",
   "version": "3.9.12"
  }
 },
 "nbformat": 4,
 "nbformat_minor": 5
}
