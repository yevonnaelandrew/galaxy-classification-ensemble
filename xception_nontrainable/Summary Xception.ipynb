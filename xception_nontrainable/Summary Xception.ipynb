{
 "cells": [
  {
   "cell_type": "code",
   "execution_count": 1,
   "id": "4f45d5c4",
   "metadata": {},
   "outputs": [],
   "source": [
    "import pandas as pd\n",
    "import numpy as np\n",
    "import matplotlib.pyplot as plt\n",
    "import os"
   ]
  },
  {
   "cell_type": "code",
   "execution_count": 2,
   "id": "183e845c",
   "metadata": {},
   "outputs": [],
   "source": [
    "lst_dic = {}\n",
    "for file in [x for x in os.listdir() if x[-3:] == 'csv']:\n",
    "    name_file = file[:-4]\n",
    "    read_file = pd.read_csv(file)['val_acc']\n",
    "    lst_dic[name_file] = read_file"
   ]
  },
  {
   "cell_type": "code",
   "execution_count": 3,
   "id": "4c694049",
   "metadata": {},
   "outputs": [
    {
     "data": {
      "text/plain": [
       "res_hls_nonpre      0.659778\n",
       "res_hls_pre         0.757555\n",
       "res_hsv_nonpre      0.720910\n",
       "res_hsv_pre         0.551928\n",
       "res_lab_nonpre      0.805662\n",
       "res_lab_pre         0.853248\n",
       "res_luv_nonpre      0.706148\n",
       "res_luv_pre         0.850122\n",
       "res_rgb             0.845606\n",
       "res_xyz_nonpre      0.889371\n",
       "res_xyz_pre         0.580931\n",
       "res_ycrcb_nonpre    0.616534\n",
       "res_ycrcb_pre       0.833796\n",
       "res_ydbdr_nonpre    0.846301\n",
       "res_ydbdr_pre       0.609066\n",
       "res_yuv_nonpre      0.880688\n",
       "res_yuv_pre         0.572247\n",
       "dtype: float64"
      ]
     },
     "execution_count": 3,
     "metadata": {},
     "output_type": "execute_result"
    }
   ],
   "source": [
    "pd.DataFrame(lst_dic).max()"
   ]
  },
  {
   "cell_type": "code",
   "execution_count": null,
   "id": "feecfc37",
   "metadata": {},
   "outputs": [],
   "source": []
  }
 ],
 "metadata": {
  "kernelspec": {
   "display_name": "Python 3 (ipykernel)",
   "language": "python",
   "name": "python3"
  },
  "language_info": {
   "codemirror_mode": {
    "name": "ipython",
    "version": 3
   },
   "file_extension": ".py",
   "mimetype": "text/x-python",
   "name": "python",
   "nbconvert_exporter": "python",
   "pygments_lexer": "ipython3",
   "version": "3.9.12"
  }
 },
 "nbformat": 4,
 "nbformat_minor": 5
}
