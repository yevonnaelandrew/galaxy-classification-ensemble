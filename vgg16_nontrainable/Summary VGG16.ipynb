{
 "cells": [
  {
   "cell_type": "code",
   "execution_count": 1,
   "id": "d81c194c",
   "metadata": {},
   "outputs": [],
   "source": [
    "import pandas as pd\n",
    "import numpy as np\n",
    "import matplotlib.pyplot as plt\n",
    "import os"
   ]
  },
  {
   "cell_type": "code",
   "execution_count": 2,
   "id": "026add2a",
   "metadata": {},
   "outputs": [],
   "source": [
    "lst_dic = {}\n",
    "for file in [x for x in os.listdir() if x[-3:] == 'csv']:\n",
    "    name_file = file[:-4]\n",
    "    read_file = pd.read_csv(file)['val_acc']\n",
    "    lst_dic[name_file] = read_file"
   ]
  },
  {
   "cell_type": "code",
   "execution_count": 3,
   "id": "d98cc220",
   "metadata": {},
   "outputs": [
    {
     "data": {
      "text/plain": [
       "res_hls_nonpre      0.777874\n",
       "res_hls_pre         0.791073\n",
       "res_hsv_nonpre      0.770059\n",
       "res_hsv_pre         0.429663\n",
       "res_lab_nonpre      0.832060\n",
       "res_lab_pre         0.827197\n",
       "res_luv_nonpre      0.868704\n",
       "res_luv_pre         0.867836\n",
       "res_rgb             0.845085\n",
       "res_xyz_nonpre      0.765544\n",
       "res_xyz_pre         0.288989\n",
       "res_ycrcb_nonpre    0.854116\n",
       "res_ycrcb_pre       0.851858\n",
       "res_ydbdr_nonpre    0.756686\n",
       "res_ydbdr_pre       0.288989\n",
       "res_yuv_nonpre      0.794199\n",
       "res_yuv_pre         0.288989\n",
       "dtype: float64"
      ]
     },
     "execution_count": 3,
     "metadata": {},
     "output_type": "execute_result"
    }
   ],
   "source": [
    "    pd.DataFrame(lst_dic).max()"
   ]
  },
  {
   "cell_type": "code",
   "execution_count": null,
   "id": "86b0ade8",
   "metadata": {},
   "outputs": [],
   "source": []
  }
 ],
 "metadata": {
  "kernelspec": {
   "display_name": "Python 3 (ipykernel)",
   "language": "python",
   "name": "python3"
  },
  "language_info": {
   "codemirror_mode": {
    "name": "ipython",
    "version": 3
   },
   "file_extension": ".py",
   "mimetype": "text/x-python",
   "name": "python",
   "nbconvert_exporter": "python",
   "pygments_lexer": "ipython3",
   "version": "3.9.12"
  }
 },
 "nbformat": 4,
 "nbformat_minor": 5
}
