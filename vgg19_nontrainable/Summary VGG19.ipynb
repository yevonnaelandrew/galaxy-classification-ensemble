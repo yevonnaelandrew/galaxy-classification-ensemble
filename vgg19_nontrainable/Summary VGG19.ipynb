{
 "cells": [
  {
   "cell_type": "code",
   "execution_count": 1,
   "id": "8ef55541",
   "metadata": {},
   "outputs": [],
   "source": [
    "import pandas as pd\n",
    "import numpy as np\n",
    "import matplotlib.pyplot as plt\n",
    "import os"
   ]
  },
  {
   "cell_type": "code",
   "execution_count": 2,
   "id": "81656ad5",
   "metadata": {},
   "outputs": [],
   "source": [
    "lst_dic = {}\n",
    "for file in [x for x in os.listdir() if x[-3:] == 'csv']:\n",
    "    name_file = file[:-4]\n",
    "    read_file = pd.read_csv(file)['val_acc']\n",
    "    lst_dic[name_file] = read_file"
   ]
  },
  {
   "cell_type": "code",
   "execution_count": 3,
   "id": "e28a6233",
   "metadata": {},
   "outputs": [
    {
     "data": {
      "text/plain": [
       "res_hls_nonpre      0.760681\n",
       "res_hls_pre         0.786384\n",
       "res_hsv_nonpre      0.755992\n",
       "res_hsv_pre         0.418895\n",
       "res_lab_nonpre      0.805141\n",
       "res_lab_pre         0.815387\n",
       "res_luv_nonpre      0.849948\n",
       "res_luv_pre         0.845432\n",
       "res_rgb             0.829455\n",
       "res_xyz_nonpre      0.759465\n",
       "res_xyz_pre         0.433831\n",
       "res_ycrcb_nonpre    0.844911\n",
       "res_ycrcb_pre       0.840049\n",
       "res_ydbdr_nonpre    0.766759\n",
       "res_ydbdr_pre       0.288989\n",
       "res_yuv_nonpre      0.797673\n",
       "res_yuv_pre         0.347169\n",
       "dtype: float64"
      ]
     },
     "execution_count": 3,
     "metadata": {},
     "output_type": "execute_result"
    }
   ],
   "source": [
    "pd.DataFrame(lst_dic).max()"
   ]
  },
  {
   "cell_type": "code",
   "execution_count": null,
   "id": "45ad1aef",
   "metadata": {},
   "outputs": [],
   "source": []
  }
 ],
 "metadata": {
  "kernelspec": {
   "display_name": "Python 3 (ipykernel)",
   "language": "python",
   "name": "python3"
  },
  "language_info": {
   "codemirror_mode": {
    "name": "ipython",
    "version": 3
   },
   "file_extension": ".py",
   "mimetype": "text/x-python",
   "name": "python",
   "nbconvert_exporter": "python",
   "pygments_lexer": "ipython3",
   "version": "3.9.12"
  }
 },
 "nbformat": 4,
 "nbformat_minor": 5
}
