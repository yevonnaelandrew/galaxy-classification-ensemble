{
 "cells": [
  {
   "cell_type": "code",
   "execution_count": 1,
   "id": "2190e51b",
   "metadata": {},
   "outputs": [],
   "source": [
    "import pandas as pd\n",
    "import numpy as np\n",
    "import matplotlib.pyplot as plt\n",
    "import os"
   ]
  },
  {
   "cell_type": "code",
   "execution_count": 2,
   "id": "c9e7eb5a",
   "metadata": {},
   "outputs": [],
   "source": [
    "lst_dic = {}\n",
    "for file in [x for x in os.listdir() if x[-3:] == 'csv']:\n",
    "    name_file = file[:-4]\n",
    "    read_file = pd.read_csv(file)['val_acc']\n",
    "    lst_dic[name_file] = read_file"
   ]
  },
  {
   "cell_type": "code",
   "execution_count": 3,
   "id": "79ecac93",
   "metadata": {},
   "outputs": [
    {
     "data": {
      "text/plain": [
       "res_hls_nonpre      0.670545\n",
       "res_hls_pre         0.769364\n",
       "res_hsv_nonpre      0.705280\n",
       "res_hsv_pre         0.602987\n",
       "res_lab_nonpre      0.809830\n",
       "res_lab_pre         0.822681\n",
       "res_luv_nonpre      0.789337\n",
       "res_luv_pre         0.861063\n",
       "res_rgb             0.840743\n",
       "res_xyz_nonpre      0.885377\n",
       "res_xyz_pre         0.499479\n",
       "res_ycrcb_nonpre    0.724036\n",
       "res_ycrcb_pre       0.830149\n",
       "res_ydbdr_nonpre    0.823376\n",
       "res_ydbdr_pre       0.527787\n",
       "res_yuv_nonpre      0.876693\n",
       "res_yuv_pre         0.506078\n",
       "dtype: float64"
      ]
     },
     "execution_count": 3,
     "metadata": {},
     "output_type": "execute_result"
    }
   ],
   "source": [
    "pd.DataFrame(lst_dic).max()"
   ]
  },
  {
   "cell_type": "code",
   "execution_count": null,
   "id": "ce76654e",
   "metadata": {},
   "outputs": [],
   "source": []
  }
 ],
 "metadata": {
  "kernelspec": {
   "display_name": "Python 3 (ipykernel)",
   "language": "python",
   "name": "python3"
  },
  "language_info": {
   "codemirror_mode": {
    "name": "ipython",
    "version": 3
   },
   "file_extension": ".py",
   "mimetype": "text/x-python",
   "name": "python",
   "nbconvert_exporter": "python",
   "pygments_lexer": "ipython3",
   "version": "3.9.12"
  }
 },
 "nbformat": 4,
 "nbformat_minor": 5
}
