{
 "cells": [
  {
   "cell_type": "code",
   "execution_count": 1,
   "id": "9629ca9f",
   "metadata": {},
   "outputs": [],
   "source": [
    "import pandas as pd\n",
    "import numpy as np\n",
    "import matplotlib.pyplot as plt\n",
    "import os"
   ]
  },
  {
   "cell_type": "code",
   "execution_count": 2,
   "id": "b7270686",
   "metadata": {},
   "outputs": [],
   "source": [
    "lst_dic = {}\n",
    "for file in [x for x in os.listdir() if x[-3:] == 'csv']:\n",
    "    name_file = file[:-4]\n",
    "    read_file = pd.read_csv(file)['val_acc']\n",
    "    lst_dic[name_file] = read_file"
   ]
  },
  {
   "cell_type": "code",
   "execution_count": 3,
   "id": "d845c9dd",
   "metadata": {},
   "outputs": [
    {
     "data": {
      "text/plain": [
       "res_hls_nonpre      0.644842\n",
       "res_hls_pre         0.792984\n",
       "res_hsv_nonpre      0.733241\n",
       "res_hsv_pre         0.676798\n",
       "res_lab_nonpre      0.800278\n",
       "res_lab_pre         0.828760\n",
       "res_luv_nonpre      0.808961\n",
       "res_luv_pre         0.861584\n",
       "res_rgb             0.849427\n",
       "res_xyz_nonpre      0.907433\n",
       "res_xyz_pre         0.507294\n",
       "res_ycrcb_nonpre    0.692602\n",
       "res_ycrcb_pre       0.834665\n",
       "res_ydbdr_nonpre    0.825808\n",
       "res_ydbdr_pre       0.596735\n",
       "res_yuv_nonpre      0.886766\n",
       "res_yuv_pre         0.564953\n",
       "dtype: float64"
      ]
     },
     "execution_count": 3,
     "metadata": {},
     "output_type": "execute_result"
    }
   ],
   "source": [
    "pd.DataFrame(lst_dic).max()"
   ]
  },
  {
   "cell_type": "code",
   "execution_count": null,
   "id": "6e70d69e",
   "metadata": {},
   "outputs": [],
   "source": []
  }
 ],
 "metadata": {
  "kernelspec": {
   "display_name": "Python 3 (ipykernel)",
   "language": "python",
   "name": "python3"
  },
  "language_info": {
   "codemirror_mode": {
    "name": "ipython",
    "version": 3
   },
   "file_extension": ".py",
   "mimetype": "text/x-python",
   "name": "python",
   "nbconvert_exporter": "python",
   "pygments_lexer": "ipython3",
   "version": "3.9.12"
  }
 },
 "nbformat": 4,
 "nbformat_minor": 5
}
